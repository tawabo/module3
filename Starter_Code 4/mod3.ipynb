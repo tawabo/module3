{
 "cells": [
  {
   "cell_type": "code",
   "execution_count": 1,
   "id": "8bc384b1-4a37-48a1-9c64-5d1a50ecaea7",
   "metadata": {},
   "outputs": [
    {
     "name": "stdout",
     "output_type": "stream",
     "text": [
      "this is the assignment for mod3\n"
     ]
    }
   ],
   "source": [
    "def mod3():\n",
    "    print(\"this is the assignment for mod3\")\n",
    "mod3()"
   ]
  },
  {
   "cell_type": "code",
   "execution_count": null,
   "id": "9c554ae9-edaa-49c3-bf56-2379b67e9f11",
   "metadata": {},
   "outputs": [],
   "source": []
  }
 ],
 "metadata": {
  "kernelspec": {
   "display_name": "python (dev)",
   "language": "python",
   "name": "dev"
  },
  "language_info": {
   "codemirror_mode": {
    "name": "ipython",
    "version": 3
   },
   "file_extension": ".py",
   "mimetype": "text/x-python",
   "name": "python",
   "nbconvert_exporter": "python",
   "pygments_lexer": "ipython3",
   "version": "3.7.11"
  }
 },
 "nbformat": 4,
 "nbformat_minor": 5
}
